{
  "metadata": {
    "kernelspec": {
      "name": "python",
      "display_name": "Python (Pyodide)",
      "language": "python"
    },
    "language_info": {
      "codemirror_mode": {
        "name": "python",
        "version": 3
      },
      "file_extension": ".py",
      "mimetype": "text/x-python",
      "name": "python",
      "nbconvert_exporter": "python",
      "pygments_lexer": "ipython3",
      "version": "3.8"
    }
  },
  "nbformat_minor": 5,
  "nbformat": 4,
  "cells": [
    {
      "id": "99b62f3f-92ed-480b-bf67-ae77f083f4fb",
      "cell_type": "code",
      "source": "%run TDE.py\nbox_TDEs",
      "metadata": {
        "trusted": true
      },
      "outputs": [
        {
          "execution_count": 13,
          "output_type": "execute_result",
          "data": {
            "text/plain": "Box(children=(Box(children=(Checkbox(value=False, description='dsg'), GridspecLayout(children=(HTML(value='<h2…",
            "application/vnd.jupyter.widget-view+json": {
              "version_major": 2,
              "version_minor": 0,
              "model_id": "5b42b956dc30411fb340e07243eaa7a7"
            }
          },
          "metadata": {}
        }
      ],
      "execution_count": 13
    },
    {
      "id": "88efdf1f-43ec-43ef-b3e0-4381d2562c32",
      "cell_type": "code",
      "source": "%pip install -q ipywidgets",
      "metadata": {
        "trusted": true
      },
      "outputs": [],
      "execution_count": 2
    },
    {
      "id": "92f35f86-1a39-4e9c-bcd9-d3982136fcd7",
      "cell_type": "code",
      "source": "",
      "metadata": {
        "trusted": true
      },
      "outputs": [],
      "execution_count": null
    }
  ]
}