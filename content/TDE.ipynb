{
 "cells": [
  {
   "cell_type": "code",
   "execution_count": 10,
   "id": "99b62f3f-92ed-480b-bf67-ae77f083f4fb",
   "metadata": {},
   "outputs": [
    {
     "data": {
      "application/vnd.jupyter.widget-view+json": {
       "model_id": "571d315348fb4343ab4f60a26edd48bc",
       "version_major": 2,
       "version_minor": 0
      },
      "text/plain": [
       "Box(children=(Box(children=(Checkbox(value=False, description='dsg'), GridspecLayout(children=(HTML(value='<h2…"
      ]
     },
     "execution_count": 10,
     "metadata": {},
     "output_type": "execute_result"
    }
   ],
   "source": [
    "from ipywidgets import GridspecLayout, Layout, Box\n",
    "import ipywidgets as widgets\n",
    "import numpy as npradius = np.array([5.00e16,  7.34e16,  1.08e17,  1.58e17,  2.32e17, 3.41e17,  5.00e17,  7.34e17,  1.08e18, 1.58e18, 2.32e18, 3.41e18, 5.00e18])\n",
    "rigidity_max =  np.array([1.00e9,  1.39e9,  1.92e9,  2.66e9,  3.68e9,  5.10e9,  7.07e9,  9.80e9,  1.36e10,  1.88e10, 2.61e10, 3.61e10, 5.00e10])\n",
    "grid_param_dsg = GridspecLayout(3, 3)\n",
    "grid_param_dsg[0,0] = widgets.HTML(value=\"<h2>Paramaters  </h2>\",)\n",
    "grid_param_dsg[1,0] = widgets.Dropdown(options=radius.tolist(), description=\"Radius [cm]\")\n",
    "grid_param_dsg[1,1] = widgets.Dropdown(options=radius.tolist(), description=\"R_max [GeV]\")\n",
    "grid_param_dsg[1,2] = widgets.Dropdown(options=[0.1], description=\"dsg B\")\n",
    "grid_param_dsg[2,0] = widgets.BoundedFloatText(value=7.5, min=0, max=1e6, step=0.1, description='local rate:', disabled=False)\n",
    "grid_param_dsg[2,1] = widgets.BoundedFloatText(value=0.020, min=0, max=5.0, step=0.001, description='radshift:', disabled=False )\n",
    "grid_comp_dsg = GridspecLayout(4, 4)\n",
    "grid_comp_dsg[0,0] = widgets.HTML(value=\"<h2> Composition  </h2>\",)\n",
    "grid_comp_dsg[1:3,0] =widgets.RadioButtons(options=['MS', 'RSG', 'WR', 'CO-WD', 'ONeMg-WD', 'Free'], description='Composition:', disabled=False)\n",
    "grid_comp_dsg[1,1] = widgets.BoundedFloatText(value=1.0,  min=0, max=1,   step=0.1, description='H:', disabled=True)\n",
    "grid_comp_dsg[2,1] = widgets.BoundedFloatText(value=0.42, min=0, max=100, step=0.1, description='He:',disabled=False)\n",
    "grid_comp_dsg[1,2] = widgets.BoundedFloatText(value=0.42, min=0, max=100, step=0.1, description='C:', disabled=False)\n",
    "grid_comp_dsg[2,2] = widgets.BoundedFloatText(value=0.42, min=0, max=100, step=0.1, description='N:', disabled=False)\n",
    "grid_comp_dsg[3,2] = widgets.BoundedFloatText(value=0.42, min=0, max=100, step=0.1, description='O:', disabled=False)\n",
    "grid_comp_dsg[1,3] = widgets.BoundedFloatText(value=0.42, min=0, max=100, step=0.1, description='Na:', disabled=False)\n",
    "grid_comp_dsg[2,3] = widgets.BoundedFloatText(value=0.42, min=0, max=100, step=0.1, description='Si:', disabled=False)\n",
    "grid_comp_dsg[3,3] = widgets.BoundedFloatText(value=0.42, min=0, max=100, step=0.1, description='Fe:', disabled=False)\n",
    "\n",
    "grid_param_fdr = GridspecLayout(3, 3)\n",
    "grid_param_fdr[0,0] = widgets.HTML(value=\"<h2>Paramaters  </h2>\",)\n",
    "grid_param_fdr[1,0] = widgets.Dropdown(options=radius.tolist(), description=\"Radius [cm]\")\n",
    "grid_param_fdr[1,1] = widgets.Dropdown(options=radius.tolist(), description=\"R_max [GeV]\")\n",
    "grid_param_fdr[1,2] = widgets.Dropdown(options=[0.1], description=\"dsg B\")\n",
    "grid_param_fdr[2,0] = widgets.BoundedFloatText(value=7.5, min=0, max=1e6, step=0.1, description='local rate:', disabled=False)\n",
    "grid_param_fdr[2,1] = widgets.BoundedFloatText(value=0.020, min=0, max=5.0, step=0.001, description='radshift:', disabled=False )\n",
    "grid_comp_fdr = GridspecLayout(4, 4)\n",
    "grid_comp_fdr[0,0] = widgets.HTML(value=\"<h2> Composition  </h2>\",)\n",
    "grid_comp_fdr[1:3,0] =widgets.RadioButtons(options=['MS', 'RSG', 'WR', 'CO-WD', 'ONeMg-WD', 'Free'], description='Composition:', disabled=False)\n",
    "grid_comp_fdr[1,1] = widgets.BoundedFloatText(value=1.0,  min=0, max=1,   step=0.1, description='H:', disabled=True)\n",
    "grid_comp_fdr[2,1] = widgets.BoundedFloatText(value=0.42, min=0, max=100, step=0.1, description='He:',disabled=False)\n",
    "grid_comp_fdr[1,2] = widgets.BoundedFloatText(value=0.42, min=0, max=100, step=0.1, description='C:', disabled=False)\n",
    "grid_comp_fdr[2,2] = widgets.BoundedFloatText(value=0.42, min=0, max=100, step=0.1, description='N:', disabled=False)\n",
    "grid_comp_fdr[3,2] = widgets.BoundedFloatText(value=0.42, min=0, max=100, step=0.1, description='O:', disabled=False)\n",
    "grid_comp_fdr[1,3] = widgets.BoundedFloatText(value=0.42, min=0, max=100, step=0.1, description='Na:', disabled=False)\n",
    "grid_comp_fdr[2,3] = widgets.BoundedFloatText(value=0.42, min=0, max=100, step=0.1, description='Si:', disabled=False)\n",
    "grid_comp_fdr[3,3] = widgets.BoundedFloatText(value=0.42, min=0, max=100, step=0.1, description='Fe:', disabled=False)\n",
    "\n",
    "\n",
    "grid_param_aalc = GridspecLayout(3, 3)\n",
    "grid_param_aalc[0,0] = widgets.HTML(value=\"<h2>Paramaters  </h2>\",)\n",
    "grid_param_aalc[1,0] = widgets.Dropdown(options=radius.tolist(), description=\"Radius [cm]\")\n",
    "grid_param_aalc[1,1] = widgets.Dropdown(options=radius.tolist(), description=\"R_max [GeV]\")\n",
    "grid_param_aalc[1,2] = widgets.Dropdown(options=[0.1], description=\"dsg B\")\n",
    "grid_param_aalc[2,0] = widgets.BoundedFloatText(value=7.5, min=0, max=1e6, step=0.1, description='local rate:', disabled=False)\n",
    "grid_param_aalc[2,1] = widgets.BoundedFloatText(value=0.020, min=0, max=5.0, step=0.001, description='radshift:', disabled=False )\n",
    "grid_comp_aalc = GridspecLayout(4, 4)\n",
    "grid_comp_aalc[0,0] = widgets.HTML(value=\"<h2> Composition  </h2>\",)\n",
    "grid_comp_aalc[1:3,0] =widgets.RadioButtons(options=['MS', 'RSG', 'WR', 'CO-WD', 'ONeMg-WD', 'Free'], description='Composition:', disabled=False)\n",
    "grid_comp_aalc[1,1] = widgets.BoundedFloatText(value=1.0,  min=0, max=1,   step=0.1, description='H:', disabled=True)\n",
    "grid_comp_aalc[2,1] = widgets.BoundedFloatText(value=0.42, min=0, max=100, step=0.1, description='He:',disabled=False)\n",
    "grid_comp_aalc[1,2] = widgets.BoundedFloatText(value=0.42, min=0, max=100, step=0.1, description='C:', disabled=False)\n",
    "grid_comp_aalc[2,2] = widgets.BoundedFloatText(value=0.42, min=0, max=100, step=0.1, description='N:', disabled=False)\n",
    "grid_comp_aalc[3,2] = widgets.BoundedFloatText(value=0.42, min=0, max=100, step=0.1, description='O:', disabled=False)\n",
    "grid_comp_aalc[1,3] = widgets.BoundedFloatText(value=0.42, min=0, max=100, step=0.1, description='Na:', disabled=False)\n",
    "grid_comp_aalc[2,3] = widgets.BoundedFloatText(value=0.42, min=0, max=100, step=0.1, description='Si:', disabled=False)\n",
    "grid_comp_aalc[3,3] = widgets.BoundedFloatText(value=0.42, min=0, max=100, step=0.1, description='Fe:', disabled=False)\n",
    "items_layout = Layout( width='auto')     # override the default width of the button to 'auto' to let the button grow\n",
    "\n",
    "box_layout = Layout(display='flex',\n",
    "                    flex_flow='column', \n",
    "                    align_items='stretch', \n",
    "                    border='solid',\n",
    "                    width='100%')\n",
    "\n",
    "words = ['correct', 'horse', 'battery', 'staple']\n",
    "items_dsg = [widgets.Checkbox( value=False, description='dsg',disabled=False), grid_param_dsg, grid_comp_dsg]\n",
    "box_dsg = Box(children=items_dsg, layout=box_layout)\n",
    "\n",
    "items_fdr = [widgets.Checkbox( value=False, description='fdr',disabled=False), grid_param_fdr, grid_comp_fdr]\n",
    "box_fdr = Box(children=items_fdr, layout=box_layout)\n",
    "\n",
    "items_aalc = [widgets.Checkbox( value=False, description='aalc',disabled=False), grid_param_aalc, grid_comp_aalc]\n",
    "box_aalc = Box(children=items_aalc, layout=box_layout)\n",
    "\n",
    "box_TDEs = Box(children=[box_dsg, box_fdr, box_aalc], layout=box_layout)\n",
    "box_TDEs"
   ]
  }
 ],
 "metadata": {
  "kernelspec": {
   "display_name": "Python 3 (ipykernel)",
   "language": "python",
   "name": "python3"
  },
  "language_info": {
   "codemirror_mode": {
    "name": "ipython",
    "version": 3
   },
   "file_extension": ".py",
   "mimetype": "text/x-python",
   "name": "python",
   "nbconvert_exporter": "python",
   "pygments_lexer": "ipython3",
   "version": "3.8.16"
  }
 },
 "nbformat": 4,
 "nbformat_minor": 5
}
