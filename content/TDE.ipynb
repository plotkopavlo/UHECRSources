{
  "cells": [
    {
      "cell_type": "code",
      "execution_count": null,
      "id": "99b62f3f-92ed-480b-bf67-ae77f083f4fb",
      "metadata": {
        "trusted": true
      },
      "outputs": [],
      "source": [
        "%pip install -q ipywidgets\n",
        "%pip install -q numpy\n",
        "%run TDE.py\n",
        "box_TDEs"
      ]
    }
  ],
  "metadata": {
    "kernelspec": {
      "display_name": "Python (Pyodide)",
      "language": "python",
      "name": "python"
    },
    "language_info": {
      "codemirror_mode": {
        "name": "python",
        "version": 3
      },
      "file_extension": ".py",
      "mimetype": "text/x-python",
      "name": "python",
      "nbconvert_exporter": "python",
      "pygments_lexer": "ipython3",
      "version": "3.8"
    }
  },
  "nbformat": 4,
  "nbformat_minor": 5
}
