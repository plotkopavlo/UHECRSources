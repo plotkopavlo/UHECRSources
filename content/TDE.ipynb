{
  "cells": [
    {
      "cell_type": "code",
      "execution_count": null,
      "id": "99b62f3f-92ed-480b-bf67-ae77f083f4fb",
      "metadata": {
        "trusted": true
      },
      "outputs": [],
      "source": [
        "import micropip\n",
        "await micropip.install('ipywidgets')\n",
        "await micropip.install('numpy')\n",
        "await micropip.install('prince_cr')\n",
        "await micropip.install('astropy')\n",
        "await micropip.install('matplotlib')\n",
        "%run TDE.py\n", 
        "ui = TDEsUI()\n",
        "ui.display();"
      ]

    }
  ],
  "metadata": {
    "kernelspec": {
      "display_name": "Python (Pyodide)",
      "language": "python",
      "name": "python"
    },
    "language_info": {
      "codemirror_mode": {
        "name": "python",
        "version": 3
      },
      "file_extension": ".py",
      "mimetype": "text/x-python",
      "name": "python",
      "nbconvert_exporter": "python",
      "pygments_lexer": "ipython3",
      "version": "3.8"
    }
  },
  "nbformat": 4,
  "nbformat_minor": 5
}
